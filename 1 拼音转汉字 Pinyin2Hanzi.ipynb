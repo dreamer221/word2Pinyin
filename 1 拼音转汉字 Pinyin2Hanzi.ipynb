{
 "cells": [
  {
   "cell_type": "code",
   "execution_count": null,
   "metadata": {
    "collapsed": true
   },
   "outputs": [],
   "source": [
    "# 安装 https://pypi.org/project/Pinyin2Hanzi/0.1.1/\n",
    "# 详细参考 https://github.com/letiantian/Pinyin2Hanzi"
   ]
  },
  {
   "cell_type": "code",
   "execution_count": 3,
   "metadata": {},
   "outputs": [],
   "source": [
    "from Pinyin2Hanzi import DefaultDagParams\n",
    "from Pinyin2Hanzi import dag"
   ]
  },
  {
   "cell_type": "code",
   "execution_count": 8,
   "metadata": {},
   "outputs": [
    {
     "name": "stdout",
     "output_type": "stream",
     "text": [
      "0.24978694797643766 <class 'float'> || ['及时'] - <class 'list'>\n",
      "0.24495206539799771 <class 'float'> || ['即使'] - <class 'list'>\n",
      "0.2145659441987045 <class 'float'> || ['即时'] - <class 'list'>\n",
      "0.2076580694445316 <class 'float'> || ['几十'] - <class 'list'>\n",
      "0.20635929863215655 <class 'float'> || ['既是'] - <class 'list'>\n"
     ]
    }
   ],
   "source": [
    "pinyinList = [\"ji\", \"shi\"]\n",
    "dagParams = DefaultDagParams()\n",
    "result = dag(dagParams, pinyinList, path_num=5) # 5 代表侯选值个数\n",
    "for item in result:\n",
    "    score = item.score \n",
    "    res = item.path # 转换结果\n",
    "    print(score, type(score), \"||\", res, \"-\", type(res))"
   ]
  }
 ],
 "metadata": {
  "kernelspec": {
   "display_name": "Python 3",
   "language": "python",
   "name": "python3"
  },
  "language_info": {
   "codemirror_mode": {
    "name": "ipython",
    "version": 3
   },
   "file_extension": ".py",
   "mimetype": "text/x-python",
   "name": "python",
   "nbconvert_exporter": "python",
   "pygments_lexer": "ipython3",
   "version": "3.6.1"
  }
 },
 "nbformat": 4,
 "nbformat_minor": 2
}
