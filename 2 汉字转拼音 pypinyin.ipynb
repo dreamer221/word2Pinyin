{
 "cells": [
  {
   "cell_type": "code",
   "execution_count": 3,
   "metadata": {},
   "outputs": [],
   "source": [
    "from pypinyin import pinyin, lazy_pinyin, Style"
   ]
  },
  {
   "cell_type": "code",
   "execution_count": 4,
   "metadata": {},
   "outputs": [
    {
     "name": "stdout",
     "output_type": "stream",
     "text": [
      "<class 'list'> ['wo', 'lai', 'dao', 'le', 'bei', 'jing', 'tian', 'an', 'men']\n",
      "<class 'list'> [['wǒ'], ['lái'], ['dào'], ['le'], ['běi'], ['jīng'], ['tiān'], ['ān'], ['mén']]\n"
     ]
    }
   ],
   "source": [
    "# 拼音\n",
    "res1 = lazy_pinyin('我来到了北京天安门')\n",
    "print(type(res1), res1)\n",
    "\n",
    "# 拼音和音调\n",
    "res2 = pinyin('我来到了北京天安门')\n",
    "print(type(res2), res2)"
   ]
  },
  {
   "cell_type": "code",
   "execution_count": 6,
   "metadata": {},
   "outputs": [
    {
     "name": "stdout",
     "output_type": "stream",
     "text": [
      "<class 'list'> [['w'], ['l'], ['d'], ['l'], ['b'], ['j'], ['t'], ['a'], ['m']]\n"
     ]
    }
   ],
   "source": [
    "# 只要首字母\n",
    "res3 = pinyin('我来到了北京天安门', style=Style.FIRST_LETTER)\n",
    "print(type(res3), res3)"
   ]
  },
  {
   "cell_type": "code",
   "execution_count": null,
   "metadata": {
    "collapsed": true
   },
   "outputs": [],
   "source": []
  }
 ],
 "metadata": {
  "kernelspec": {
   "display_name": "Python 3",
   "language": "python",
   "name": "python3"
  },
  "language_info": {
   "codemirror_mode": {
    "name": "ipython",
    "version": 3
   },
   "file_extension": ".py",
   "mimetype": "text/x-python",
   "name": "python",
   "nbconvert_exporter": "python",
   "pygments_lexer": "ipython3",
   "version": "3.6.1"
  }
 },
 "nbformat": 4,
 "nbformat_minor": 2
}
